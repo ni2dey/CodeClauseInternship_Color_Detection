{
 "cells": [
  {
   "cell_type": "code",
   "execution_count": 3,
   "id": "4c7d234e-767e-4172-824b-e0599fa1ea22",
   "metadata": {},
   "outputs": [],
   "source": [
    "import cv2 as cv\n",
    "import pandas as pd\n",
    "\n",
    "img=cv.imread('image1.jpg')\n",
    "\n",
    "\n",
    "img1=cv.resize(img,(1000,700),interpolation=cv.INTER_CUBIC)\n",
    "\n",
    "index=['color','color_name','hex','R','G','B']\n",
    "file=pd.read_csv('colors.csv',names=index,header=None)\n",
    "\n",
    "clicked=False\n",
    "r=g=b=x_pos=y_pos=0\n",
    "\n",
    "def find_color_name(R,G,B):\n",
    "    min=1000\n",
    "    for i in range(len(file)):\n",
    "        d=abs(R-int(file.loc[i,\"R\"]))+abs(G-int(file.loc[i,\"G\"]))+abs(B-int(file.loc[i,\"B\"]))\n",
    "        if d<min:\n",
    "         min=d\n",
    "         c_name=file.loc[i,\"color_name\"]\n",
    "    return c_name\n",
    "\n",
    "\n",
    "def mouse_click( event, x, y, flags, param):\n",
    "    if event==cv.EVENT_LBUTTONDBLCLK:\n",
    "        global b,g,r,x_pos,y_pos,clicked\n",
    "        clicked=True\n",
    "        x_pos=x\n",
    "        y_pos=y\n",
    "        b,g,r=img1[y,x]\n",
    "        b=int(b)\n",
    "        g=int(g)\n",
    "        r=int(r)\n",
    "\n",
    "\n",
    "cv.namedWindow('IMAGE')\n",
    "cv.setMouseCallback('IMAGE', mouse_click)\n",
    "\n",
    "\n",
    "while True:\n",
    "    \n",
    "    cv.imshow(\"IMAGE\",img1)\n",
    "    if clicked:\n",
    "        \n",
    "       cv.rectangle(img1,(50,600),(700,650),(b,g,r),-1)\n",
    "       text='\"'+find_color_name(r,g,b)+'\" :' + ' R='+str(r) + ' G='+str(g) + ' B='+str(b) \n",
    "        \n",
    "       if r + g + b >= 500:\n",
    "            cv.putText(img1,text,(70,630),1,1.2,(0,0,0),2,cv.LINE_AA)\n",
    "       else:\n",
    "            cv.putText(img1,text,(70,630),1,1.2,(255,255,255),2,cv.LINE_AA)\n",
    "\n",
    "       clicked = False\n",
    "\n",
    "    \n",
    "    \n",
    "    if cv.waitKey(20) & 0xFF == 27:\n",
    "        break\n",
    "\n",
    "\n",
    "cv.destroyAllWindows()"
   ]
  },
  {
   "cell_type": "code",
   "execution_count": null,
   "id": "f3793592-c0b0-40ad-ad7f-ac8fd4357441",
   "metadata": {},
   "outputs": [],
   "source": []
  },
  {
   "cell_type": "code",
   "execution_count": null,
   "id": "49a03df0-4afa-4543-a7e5-a4785f7dd5ff",
   "metadata": {},
   "outputs": [],
   "source": []
  },
  {
   "cell_type": "code",
   "execution_count": null,
   "id": "16f44f9d-b846-4232-993c-8bb7cac8888e",
   "metadata": {},
   "outputs": [],
   "source": []
  },
  {
   "cell_type": "code",
   "execution_count": null,
   "id": "5bec7d97-9f4f-4531-bb15-fabb38fb1ad0",
   "metadata": {},
   "outputs": [],
   "source": []
  },
  {
   "cell_type": "code",
   "execution_count": null,
   "id": "7d04e213-27c8-41ff-8ddf-c21224672348",
   "metadata": {},
   "outputs": [],
   "source": [
    "\n",
    "        "
   ]
  },
  {
   "cell_type": "code",
   "execution_count": null,
   "id": "212d969c-95c4-44da-81ef-c7406d2d42c2",
   "metadata": {},
   "outputs": [],
   "source": []
  },
  {
   "cell_type": "code",
   "execution_count": null,
   "id": "c8dd2d46-af0c-4ddb-b146-54222325b811",
   "metadata": {},
   "outputs": [],
   "source": []
  }
 ],
 "metadata": {
  "kernelspec": {
   "display_name": "Python 3 (ipykernel)",
   "language": "python",
   "name": "python3"
  },
  "language_info": {
   "codemirror_mode": {
    "name": "ipython",
    "version": 3
   },
   "file_extension": ".py",
   "mimetype": "text/x-python",
   "name": "python",
   "nbconvert_exporter": "python",
   "pygments_lexer": "ipython3",
   "version": "3.11.1"
  }
 },
 "nbformat": 4,
 "nbformat_minor": 5
}
